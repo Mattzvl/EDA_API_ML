{
 "cells": [
  {
   "cell_type": "markdown",
   "metadata": {},
   "source": [
    "# EDA a partir de la API de MELI\n",
    "### Parte II: algoritmo predictivo\n",
    "<a id=\"top\"></a>\n",
    "Autor: Mathiews Flores Zavala\n",
    "\n",
    "<p> En esta notebook, voy a explorar los resultados de las publicaciones de MELI meduante su API de acceso público, que se vio en la Parte I (ver en el<a href = 'https://github.com/Mattzvl/EDA_API_ML'> EDA_API_MELI </a> para mas detalles).</p>\n",
    "<p><strong>Objetivo:</strong> Implementar un algoritmo predictivo para poder predecir las unidades vendidas <i>sold_quantity</i></p>\n",
    "\n",
    "## Tabla de Contenidos\n",
    "1. <a href=\"#1\">Data Wrangling</a>\n",
    "* 1.1 <a href=\"#1.1\">Importando librerías y datos</a>\n",
    "* 1.2 <a href=\"#1.2\">Exploramos el Data Set </a>\n",
    "* 1.3 <a href=\"#1.3\">Tratamiento del data set: columnas, duplicados y valores NaN</a>\n",
    "* 1.4 <a href=\"#1.4\">Outliers</a>\n",
    "* 1.5 <a href=\"#1.5\">Visualización</a>\n",
    "* 1.6 <a href=\"#1.6\">Feature Engineering</a>\n",
    "\n",
    "\n",
    "* 1.4 <a href=\"#1.4\">Tratamiento del data set de test puro</a>\n",
    "* 1.5 <a href=\"#1.5\">Funcion de Limpieza</a>\n",
    "* 1.6 <a href=\"#1.6\">Tokenizando para Analisis de Palabras </a>\n",
    "2. <a href=\"#2\">Identificado data extra (*Get the Data*)</a>\n",
    "* 2.1 <a href='#2.1'>Extraccion de datos extra</a>\n",
    "\n",
    "3. <a href=\"#3\">Conclusion de Parte I</a>\n",
    "* 3.1 <a href='#3.1'>Preparacion del data set final</a>\n",
    "* 3.2 <a href='#3.2'>Comentarios finales</a>\n"
   ]
  },
  {
   "cell_type": "markdown",
   "metadata": {},
   "source": [
    "---\n",
    "<a href=\"#top\">Back to Index</a>\n",
    "<a id=\"1\"></a>\n",
    "### 1) Data Wrangling\n",
    "<a id=\"1.1\"></a>\n",
    "#### 1.1) Importando librerias y datos"
   ]
  },
  {
   "cell_type": "code",
   "execution_count": 1,
   "metadata": {},
   "outputs": [],
   "source": [
    "import requests\n",
    "import pandas as pd\n",
    "import numpy as np\n",
    "import seaborn as sns\n",
    "import matplotlib.pyplot as plt\n",
    "import plotly.express as px\n",
    "import plotly.graph_objects as go\n",
    "\n",
    "from time import time, sleep\n",
    "import re\n",
    "\n",
    "#from bs4 import BeautifulSoup"
   ]
  },
  {
   "cell_type": "markdown",
   "metadata": {},
   "source": [
    "Consulto la API de Mercado Libre publica mediante búsquedas. En esta instacia me focalizaré en recopilar datos para componer una muestra de la población de publicaciones disponibles de la API de MELI"
   ]
  },
  {
   "cell_type": "code",
   "execution_count": 2,
   "metadata": {},
   "outputs": [
    {
     "data": {
      "text/html": [
       "<div>\n",
       "<style scoped>\n",
       "    .dataframe tbody tr th:only-of-type {\n",
       "        vertical-align: middle;\n",
       "    }\n",
       "\n",
       "    .dataframe tbody tr th {\n",
       "        vertical-align: top;\n",
       "    }\n",
       "\n",
       "    .dataframe thead th {\n",
       "        text-align: right;\n",
       "    }\n",
       "</style>\n",
       "<table border=\"1\" class=\"dataframe\">\n",
       "  <thead>\n",
       "    <tr style=\"text-align: right;\">\n",
       "      <th></th>\n",
       "      <th>id</th>\n",
       "      <th>site_id</th>\n",
       "      <th>title</th>\n",
       "      <th>price</th>\n",
       "      <th>prices</th>\n",
       "      <th>sale_price</th>\n",
       "      <th>currency_id</th>\n",
       "      <th>available_quantity</th>\n",
       "      <th>sold_quantity</th>\n",
       "      <th>buying_mode</th>\n",
       "      <th>...</th>\n",
       "      <th>neutral</th>\n",
       "      <th>claims</th>\n",
       "      <th>delayed_handling_time</th>\n",
       "      <th>sales</th>\n",
       "      <th>cancellations</th>\n",
       "      <th>free_shipping</th>\n",
       "      <th>mode</th>\n",
       "      <th>tags.2</th>\n",
       "      <th>logistic_type</th>\n",
       "      <th>store_pick_up</th>\n",
       "    </tr>\n",
       "  </thead>\n",
       "  <tbody>\n",
       "    <tr>\n",
       "      <th>0</th>\n",
       "      <td>MLA898264823</td>\n",
       "      <td>MLA</td>\n",
       "      <td>Smart Tv Tcl 50p8m Led 4k 50</td>\n",
       "      <td>54999.0</td>\n",
       "      <td>{'id': 'MLA898264823', 'prices': [{'id': '16',...</td>\n",
       "      <td>NaN</td>\n",
       "      <td>ARS</td>\n",
       "      <td>1</td>\n",
       "      <td>121</td>\n",
       "      <td>buy_it_now</td>\n",
       "      <td>...</td>\n",
       "      <td>0.02</td>\n",
       "      <td>{'rate': 0.0148, 'value': 185, 'period': '60 d...</td>\n",
       "      <td>{'rate': 0.0152, 'value': 181, 'period': '60 d...</td>\n",
       "      <td>{'period': '60 days', 'completed': 11792}</td>\n",
       "      <td>{'rate': 0.003, 'value': 38, 'period': '60 days'}</td>\n",
       "      <td>True</td>\n",
       "      <td>me2</td>\n",
       "      <td>['mandatory_free_shipping', 'self_service_in']</td>\n",
       "      <td>cross_docking</td>\n",
       "      <td>False</td>\n",
       "    </tr>\n",
       "    <tr>\n",
       "      <th>1</th>\n",
       "      <td>MLA905996538</td>\n",
       "      <td>MLA</td>\n",
       "      <td>Smart Tv Hyundai 50 4k Uhd Google Android</td>\n",
       "      <td>49999.0</td>\n",
       "      <td>{'id': 'MLA905996538', 'prices': [{'id': '139'...</td>\n",
       "      <td>NaN</td>\n",
       "      <td>ARS</td>\n",
       "      <td>1</td>\n",
       "      <td>250</td>\n",
       "      <td>buy_it_now</td>\n",
       "      <td>...</td>\n",
       "      <td>0.01</td>\n",
       "      <td>{'rate': 0.0084, 'value': 1109, 'period': '60 ...</td>\n",
       "      <td>{'rate': 0, 'value': 0, 'period': '60 days'}</td>\n",
       "      <td>{'period': '60 days', 'completed': 125242}</td>\n",
       "      <td>{'rate': 0, 'value': 0, 'period': '60 days'}</td>\n",
       "      <td>True</td>\n",
       "      <td>me2</td>\n",
       "      <td>['fulfillment', 'mandatory_free_shipping']</td>\n",
       "      <td>fulfillment</td>\n",
       "      <td>False</td>\n",
       "    </tr>\n",
       "    <tr>\n",
       "      <th>2</th>\n",
       "      <td>MLA898844422</td>\n",
       "      <td>MLA</td>\n",
       "      <td>Smart Tv Samsung Series 7 Un50tu7000gczb Led 4...</td>\n",
       "      <td>75999.0</td>\n",
       "      <td>{'id': 'MLA898844422', 'prices': [{'id': '152'...</td>\n",
       "      <td>NaN</td>\n",
       "      <td>ARS</td>\n",
       "      <td>273</td>\n",
       "      <td>7388</td>\n",
       "      <td>buy_it_now</td>\n",
       "      <td>...</td>\n",
       "      <td>0.01</td>\n",
       "      <td>{'rate': 0.0084, 'value': 1109, 'period': '60 ...</td>\n",
       "      <td>{'rate': 0, 'value': 0, 'period': '60 days'}</td>\n",
       "      <td>{'period': '60 days', 'completed': 125242}</td>\n",
       "      <td>{'rate': 0, 'value': 0, 'period': '60 days'}</td>\n",
       "      <td>True</td>\n",
       "      <td>me2</td>\n",
       "      <td>['fulfillment', 'mandatory_free_shipping']</td>\n",
       "      <td>fulfillment</td>\n",
       "      <td>False</td>\n",
       "    </tr>\n",
       "    <tr>\n",
       "      <th>3</th>\n",
       "      <td>MLA933497704</td>\n",
       "      <td>MLA</td>\n",
       "      <td>Amazon Fire Tv Stick 4k  De Voz 4k 8gb  Negro...</td>\n",
       "      <td>10888.0</td>\n",
       "      <td>{'id': 'MLA933497704', 'prices': [{'id': '1', ...</td>\n",
       "      <td>NaN</td>\n",
       "      <td>ARS</td>\n",
       "      <td>3</td>\n",
       "      <td>2</td>\n",
       "      <td>buy_it_now</td>\n",
       "      <td>...</td>\n",
       "      <td>0.01</td>\n",
       "      <td>{'rate': 0, 'value': 1, 'period': '60 days'}</td>\n",
       "      <td>{'rate': 0, 'value': 0, 'period': '60 days'}</td>\n",
       "      <td>{'period': '60 days', 'completed': 2364}</td>\n",
       "      <td>{'rate': 0, 'value': 0, 'period': '60 days'}</td>\n",
       "      <td>True</td>\n",
       "      <td>me2</td>\n",
       "      <td>['self_service_in', 'mandatory_free_shipping']</td>\n",
       "      <td>cross_docking</td>\n",
       "      <td>False</td>\n",
       "    </tr>\n",
       "    <tr>\n",
       "      <th>4</th>\n",
       "      <td>MLA926081002</td>\n",
       "      <td>MLA</td>\n",
       "      <td>Smart Tv Bgh 50  Uhd Android</td>\n",
       "      <td>66999.0</td>\n",
       "      <td>{'id': 'MLA926081002', 'prices': [{'id': '37',...</td>\n",
       "      <td>NaN</td>\n",
       "      <td>ARS</td>\n",
       "      <td>250</td>\n",
       "      <td>250</td>\n",
       "      <td>buy_it_now</td>\n",
       "      <td>...</td>\n",
       "      <td>0.01</td>\n",
       "      <td>{'rate': 0.0084, 'value': 1109, 'period': '60 ...</td>\n",
       "      <td>{'rate': 0, 'value': 0, 'period': '60 days'}</td>\n",
       "      <td>{'period': '60 days', 'completed': 125242}</td>\n",
       "      <td>{'rate': 0, 'value': 0, 'period': '60 days'}</td>\n",
       "      <td>True</td>\n",
       "      <td>me2</td>\n",
       "      <td>['fulfillment', 'mandatory_free_shipping']</td>\n",
       "      <td>fulfillment</td>\n",
       "      <td>False</td>\n",
       "    </tr>\n",
       "  </tbody>\n",
       "</table>\n",
       "<p>5 rows × 63 columns</p>\n",
       "</div>"
      ],
      "text/plain": [
       "             id site_id                                              title  \\\n",
       "0  MLA898264823     MLA                      Smart Tv Tcl 50p8m Led 4k 50    \n",
       "1  MLA905996538     MLA         Smart Tv Hyundai 50 4k Uhd Google Android    \n",
       "2  MLA898844422     MLA  Smart Tv Samsung Series 7 Un50tu7000gczb Led 4...   \n",
       "3  MLA933497704     MLA   Amazon Fire Tv Stick 4k  De Voz 4k 8gb  Negro...   \n",
       "4  MLA926081002     MLA                       Smart Tv Bgh 50  Uhd Android   \n",
       "\n",
       "     price                                             prices  sale_price  \\\n",
       "0  54999.0  {'id': 'MLA898264823', 'prices': [{'id': '16',...         NaN   \n",
       "1  49999.0  {'id': 'MLA905996538', 'prices': [{'id': '139'...         NaN   \n",
       "2  75999.0  {'id': 'MLA898844422', 'prices': [{'id': '152'...         NaN   \n",
       "3  10888.0  {'id': 'MLA933497704', 'prices': [{'id': '1', ...         NaN   \n",
       "4  66999.0  {'id': 'MLA926081002', 'prices': [{'id': '37',...         NaN   \n",
       "\n",
       "  currency_id  available_quantity  sold_quantity buying_mode  ... neutral  \\\n",
       "0         ARS                   1            121  buy_it_now  ...    0.02   \n",
       "1         ARS                   1            250  buy_it_now  ...    0.01   \n",
       "2         ARS                 273           7388  buy_it_now  ...    0.01   \n",
       "3         ARS                   3              2  buy_it_now  ...    0.01   \n",
       "4         ARS                 250            250  buy_it_now  ...    0.01   \n",
       "\n",
       "                                              claims  \\\n",
       "0  {'rate': 0.0148, 'value': 185, 'period': '60 d...   \n",
       "1  {'rate': 0.0084, 'value': 1109, 'period': '60 ...   \n",
       "2  {'rate': 0.0084, 'value': 1109, 'period': '60 ...   \n",
       "3       {'rate': 0, 'value': 1, 'period': '60 days'}   \n",
       "4  {'rate': 0.0084, 'value': 1109, 'period': '60 ...   \n",
       "\n",
       "                               delayed_handling_time  \\\n",
       "0  {'rate': 0.0152, 'value': 181, 'period': '60 d...   \n",
       "1       {'rate': 0, 'value': 0, 'period': '60 days'}   \n",
       "2       {'rate': 0, 'value': 0, 'period': '60 days'}   \n",
       "3       {'rate': 0, 'value': 0, 'period': '60 days'}   \n",
       "4       {'rate': 0, 'value': 0, 'period': '60 days'}   \n",
       "\n",
       "                                        sales  \\\n",
       "0   {'period': '60 days', 'completed': 11792}   \n",
       "1  {'period': '60 days', 'completed': 125242}   \n",
       "2  {'period': '60 days', 'completed': 125242}   \n",
       "3    {'period': '60 days', 'completed': 2364}   \n",
       "4  {'period': '60 days', 'completed': 125242}   \n",
       "\n",
       "                                       cancellations free_shipping  mode  \\\n",
       "0  {'rate': 0.003, 'value': 38, 'period': '60 days'}          True   me2   \n",
       "1       {'rate': 0, 'value': 0, 'period': '60 days'}          True   me2   \n",
       "2       {'rate': 0, 'value': 0, 'period': '60 days'}          True   me2   \n",
       "3       {'rate': 0, 'value': 0, 'period': '60 days'}          True   me2   \n",
       "4       {'rate': 0, 'value': 0, 'period': '60 days'}          True   me2   \n",
       "\n",
       "                                           tags.2  logistic_type store_pick_up  \n",
       "0  ['mandatory_free_shipping', 'self_service_in']  cross_docking         False  \n",
       "1      ['fulfillment', 'mandatory_free_shipping']    fulfillment         False  \n",
       "2      ['fulfillment', 'mandatory_free_shipping']    fulfillment         False  \n",
       "3  ['self_service_in', 'mandatory_free_shipping']  cross_docking         False  \n",
       "4      ['fulfillment', 'mandatory_free_shipping']    fulfillment         False  \n",
       "\n",
       "[5 rows x 63 columns]"
      ]
     },
     "execution_count": 2,
     "metadata": {},
     "output_type": "execute_result"
    }
   ],
   "source": [
    "data = pd.read_csv('./data/data_part1.csv')\n",
    "data.head()"
   ]
  },
  {
   "cell_type": "code",
   "execution_count": 5,
   "metadata": {},
   "outputs": [
    {
     "data": {
      "text/plain": [
       "(4160, 63)"
      ]
     },
     "execution_count": 5,
     "metadata": {},
     "output_type": "execute_result"
    }
   ],
   "source": [
    "data.shape"
   ]
  },
  {
   "cell_type": "markdown",
   "metadata": {},
   "source": [
    "La busqueda mediante la API de MELI se obtuvo un data set con 4160 registros focalizado principalmente elementos de eletronica como lo son televisores, telefonos, notebooks, tablets."
   ]
  },
  {
   "cell_type": "markdown",
   "metadata": {},
   "source": [
    "<a id=\"1.2\"></a>\n",
    "#### 1.2) Explorando el data set"
   ]
  },
  {
   "cell_type": "code",
   "execution_count": 6,
   "metadata": {
    "scrolled": true
   },
   "outputs": [
    {
     "name": "stdout",
     "output_type": "stream",
     "text": [
      "<class 'pandas.core.frame.DataFrame'>\n",
      "RangeIndex: 4160 entries, 0 to 4159\n",
      "Data columns (total 63 columns):\n",
      " #   Column                 Non-Null Count  Dtype  \n",
      "---  ------                 --------------  -----  \n",
      " 0   id                     4160 non-null   object \n",
      " 1   site_id                4160 non-null   object \n",
      " 2   title                  4160 non-null   object \n",
      " 3   price                  4160 non-null   float64\n",
      " 4   prices                 4160 non-null   object \n",
      " 5   sale_price             0 non-null      float64\n",
      " 6   currency_id            4160 non-null   object \n",
      " 7   available_quantity     4160 non-null   int64  \n",
      " 8   sold_quantity          4160 non-null   int64  \n",
      " 9   buying_mode            4160 non-null   object \n",
      " 10  listing_type_id        4160 non-null   object \n",
      " 11  stop_time              4160 non-null   object \n",
      " 12  condition              4160 non-null   object \n",
      " 13  permalink              4160 non-null   object \n",
      " 14  thumbnail              4160 non-null   object \n",
      " 15  thumbnail_id           4160 non-null   object \n",
      " 16  accepts_mercadopago    4160 non-null   bool   \n",
      " 17  installments           4152 non-null   object \n",
      " 18  shipping               4160 non-null   object \n",
      " 19  seller_address         4160 non-null   object \n",
      " 20  attributes             4160 non-null   object \n",
      " 21  original_price         709 non-null    float64\n",
      " 22  category_id            4160 non-null   object \n",
      " 23  official_store_id      621 non-null    float64\n",
      " 24  domain_id              4160 non-null   object \n",
      " 25  catalog_product_id     3011 non-null   object \n",
      " 26  tags                   4160 non-null   object \n",
      " 27  catalog_listing        446 non-null    object \n",
      " 28  use_thumbnail_id       4160 non-null   bool   \n",
      " 29  order_backend          4160 non-null   int64  \n",
      " 30  differential_pricing   1332 non-null   object \n",
      " 31  id.1                   4160 non-null   int64  \n",
      " 32  permalink.1            4160 non-null   object \n",
      " 33  registration_date      4160 non-null   object \n",
      " 34  car_dealer             4160 non-null   bool   \n",
      " 35  real_estate_agency     4160 non-null   bool   \n",
      " 36  tags.1                 4160 non-null   object \n",
      " 37  eshop                  2389 non-null   object \n",
      " 38  seller_reputation      4160 non-null   object \n",
      " 39  state_id               4160 non-null   object \n",
      " 40  state_name             4160 non-null   object \n",
      " 41  city_id                2577 non-null   object \n",
      " 42  city_name              4160 non-null   object \n",
      " 43  power_seller_status    3561 non-null   object \n",
      " 44  level_id               4073 non-null   object \n",
      " 45  protection_end_date    429 non-null    object \n",
      " 46  real_level             429 non-null    object \n",
      " 47  total                  4160 non-null   int64  \n",
      " 48  canceled               4160 non-null   int64  \n",
      " 49  period                 4160 non-null   object \n",
      " 50  completed              4160 non-null   int64  \n",
      " 51  negative               4160 non-null   float64\n",
      " 52  positive               4160 non-null   float64\n",
      " 53  neutral                4160 non-null   float64\n",
      " 54  claims                 4160 non-null   object \n",
      " 55  delayed_handling_time  4160 non-null   object \n",
      " 56  sales                  4160 non-null   object \n",
      " 57  cancellations          4160 non-null   object \n",
      " 58  free_shipping          4160 non-null   bool   \n",
      " 59  mode                   4160 non-null   object \n",
      " 60  tags.2                 4160 non-null   object \n",
      " 61  logistic_type          4160 non-null   object \n",
      " 62  store_pick_up          4160 non-null   bool   \n",
      "dtypes: bool(6), float64(7), int64(7), object(43)\n",
      "memory usage: 1.8+ MB\n"
     ]
    }
   ],
   "source": [
    "# explioramos el data set de la parte 1\n",
    "data.info()"
   ]
  },
  {
   "cell_type": "code",
   "execution_count": 7,
   "metadata": {
    "scrolled": true
   },
   "outputs": [
    {
     "data": {
      "text/html": [
       "<div>\n",
       "<style scoped>\n",
       "    .dataframe tbody tr th:only-of-type {\n",
       "        vertical-align: middle;\n",
       "    }\n",
       "\n",
       "    .dataframe tbody tr th {\n",
       "        vertical-align: top;\n",
       "    }\n",
       "\n",
       "    .dataframe thead th {\n",
       "        text-align: right;\n",
       "    }\n",
       "</style>\n",
       "<table border=\"1\" class=\"dataframe\">\n",
       "  <thead>\n",
       "    <tr style=\"text-align: right;\">\n",
       "      <th></th>\n",
       "      <th>price</th>\n",
       "      <th>sale_price</th>\n",
       "      <th>available_quantity</th>\n",
       "      <th>sold_quantity</th>\n",
       "      <th>original_price</th>\n",
       "      <th>official_store_id</th>\n",
       "      <th>order_backend</th>\n",
       "      <th>id.1</th>\n",
       "      <th>total</th>\n",
       "      <th>canceled</th>\n",
       "      <th>completed</th>\n",
       "      <th>negative</th>\n",
       "      <th>positive</th>\n",
       "      <th>neutral</th>\n",
       "    </tr>\n",
       "  </thead>\n",
       "  <tbody>\n",
       "    <tr>\n",
       "      <th>count</th>\n",
       "      <td>4.160000e+03</td>\n",
       "      <td>0.0</td>\n",
       "      <td>4160.000000</td>\n",
       "      <td>4160.000000</td>\n",
       "      <td>709.000000</td>\n",
       "      <td>621.000000</td>\n",
       "      <td>4160.000000</td>\n",
       "      <td>4.160000e+03</td>\n",
       "      <td>4160.000000</td>\n",
       "      <td>4160.000000</td>\n",
       "      <td>4160.000000</td>\n",
       "      <td>4160.000000</td>\n",
       "      <td>4160.000000</td>\n",
       "      <td>4160.000000</td>\n",
       "    </tr>\n",
       "    <tr>\n",
       "      <th>mean</th>\n",
       "      <td>7.448659e+04</td>\n",
       "      <td>NaN</td>\n",
       "      <td>156.363702</td>\n",
       "      <td>50.757212</td>\n",
       "      <td>75526.043554</td>\n",
       "      <td>1090.275362</td>\n",
       "      <td>25.497356</td>\n",
       "      <td>2.081767e+08</td>\n",
       "      <td>51226.624038</td>\n",
       "      <td>2776.597356</td>\n",
       "      <td>48450.026683</td>\n",
       "      <td>0.027495</td>\n",
       "      <td>0.947060</td>\n",
       "      <td>0.023281</td>\n",
       "    </tr>\n",
       "    <tr>\n",
       "      <th>std</th>\n",
       "      <td>3.707253e+05</td>\n",
       "      <td>NaN</td>\n",
       "      <td>1515.758183</td>\n",
       "      <td>343.723400</td>\n",
       "      <td>64331.915747</td>\n",
       "      <td>827.029270</td>\n",
       "      <td>14.431171</td>\n",
       "      <td>1.686220e+08</td>\n",
       "      <td>110814.910854</td>\n",
       "      <td>5546.391381</td>\n",
       "      <td>105340.620247</td>\n",
       "      <td>0.042096</td>\n",
       "      <td>0.098846</td>\n",
       "      <td>0.079299</td>\n",
       "    </tr>\n",
       "    <tr>\n",
       "      <th>min</th>\n",
       "      <td>3.300000e+01</td>\n",
       "      <td>NaN</td>\n",
       "      <td>1.000000</td>\n",
       "      <td>0.000000</td>\n",
       "      <td>1600.000000</td>\n",
       "      <td>47.000000</td>\n",
       "      <td>1.000000</td>\n",
       "      <td>1.048590e+05</td>\n",
       "      <td>0.000000</td>\n",
       "      <td>0.000000</td>\n",
       "      <td>0.000000</td>\n",
       "      <td>0.000000</td>\n",
       "      <td>0.000000</td>\n",
       "      <td>0.000000</td>\n",
       "    </tr>\n",
       "    <tr>\n",
       "      <th>25%</th>\n",
       "      <td>1.500000e+04</td>\n",
       "      <td>NaN</td>\n",
       "      <td>1.000000</td>\n",
       "      <td>1.000000</td>\n",
       "      <td>20899.000000</td>\n",
       "      <td>229.000000</td>\n",
       "      <td>13.000000</td>\n",
       "      <td>8.252185e+07</td>\n",
       "      <td>3235.000000</td>\n",
       "      <td>180.000000</td>\n",
       "      <td>3081.000000</td>\n",
       "      <td>0.010000</td>\n",
       "      <td>0.940000</td>\n",
       "      <td>0.010000</td>\n",
       "    </tr>\n",
       "    <tr>\n",
       "      <th>50%</th>\n",
       "      <td>4.995850e+04</td>\n",
       "      <td>NaN</td>\n",
       "      <td>1.000000</td>\n",
       "      <td>5.000000</td>\n",
       "      <td>59999.000000</td>\n",
       "      <td>1205.000000</td>\n",
       "      <td>25.500000</td>\n",
       "      <td>1.727533e+08</td>\n",
       "      <td>13374.000000</td>\n",
       "      <td>958.000000</td>\n",
       "      <td>12740.000000</td>\n",
       "      <td>0.020000</td>\n",
       "      <td>0.960000</td>\n",
       "      <td>0.020000</td>\n",
       "    </tr>\n",
       "    <tr>\n",
       "      <th>75%</th>\n",
       "      <td>9.310338e+04</td>\n",
       "      <td>NaN</td>\n",
       "      <td>3.000000</td>\n",
       "      <td>25.000000</td>\n",
       "      <td>109999.000000</td>\n",
       "      <td>1938.000000</td>\n",
       "      <td>38.000000</td>\n",
       "      <td>2.848246e+08</td>\n",
       "      <td>41854.000000</td>\n",
       "      <td>2303.000000</td>\n",
       "      <td>39757.000000</td>\n",
       "      <td>0.030000</td>\n",
       "      <td>0.980000</td>\n",
       "      <td>0.020000</td>\n",
       "    </tr>\n",
       "    <tr>\n",
       "      <th>max</th>\n",
       "      <td>2.335000e+07</td>\n",
       "      <td>NaN</td>\n",
       "      <td>50000.000000</td>\n",
       "      <td>10459.000000</td>\n",
       "      <td>395999.000000</td>\n",
       "      <td>2588.000000</td>\n",
       "      <td>50.000000</td>\n",
       "      <td>8.006795e+08</td>\n",
       "      <td>613410.000000</td>\n",
       "      <td>29023.000000</td>\n",
       "      <td>585075.000000</td>\n",
       "      <td>1.000000</td>\n",
       "      <td>1.000000</td>\n",
       "      <td>1.000000</td>\n",
       "    </tr>\n",
       "  </tbody>\n",
       "</table>\n",
       "</div>"
      ],
      "text/plain": [
       "              price  sale_price  available_quantity  sold_quantity  \\\n",
       "count  4.160000e+03         0.0         4160.000000    4160.000000   \n",
       "mean   7.448659e+04         NaN          156.363702      50.757212   \n",
       "std    3.707253e+05         NaN         1515.758183     343.723400   \n",
       "min    3.300000e+01         NaN            1.000000       0.000000   \n",
       "25%    1.500000e+04         NaN            1.000000       1.000000   \n",
       "50%    4.995850e+04         NaN            1.000000       5.000000   \n",
       "75%    9.310338e+04         NaN            3.000000      25.000000   \n",
       "max    2.335000e+07         NaN        50000.000000   10459.000000   \n",
       "\n",
       "       original_price  official_store_id  order_backend          id.1  \\\n",
       "count      709.000000         621.000000    4160.000000  4.160000e+03   \n",
       "mean     75526.043554        1090.275362      25.497356  2.081767e+08   \n",
       "std      64331.915747         827.029270      14.431171  1.686220e+08   \n",
       "min       1600.000000          47.000000       1.000000  1.048590e+05   \n",
       "25%      20899.000000         229.000000      13.000000  8.252185e+07   \n",
       "50%      59999.000000        1205.000000      25.500000  1.727533e+08   \n",
       "75%     109999.000000        1938.000000      38.000000  2.848246e+08   \n",
       "max     395999.000000        2588.000000      50.000000  8.006795e+08   \n",
       "\n",
       "               total      canceled      completed     negative     positive  \\\n",
       "count    4160.000000   4160.000000    4160.000000  4160.000000  4160.000000   \n",
       "mean    51226.624038   2776.597356   48450.026683     0.027495     0.947060   \n",
       "std    110814.910854   5546.391381  105340.620247     0.042096     0.098846   \n",
       "min         0.000000      0.000000       0.000000     0.000000     0.000000   \n",
       "25%      3235.000000    180.000000    3081.000000     0.010000     0.940000   \n",
       "50%     13374.000000    958.000000   12740.000000     0.020000     0.960000   \n",
       "75%     41854.000000   2303.000000   39757.000000     0.030000     0.980000   \n",
       "max    613410.000000  29023.000000  585075.000000     1.000000     1.000000   \n",
       "\n",
       "           neutral  \n",
       "count  4160.000000  \n",
       "mean      0.023281  \n",
       "std       0.079299  \n",
       "min       0.000000  \n",
       "25%       0.010000  \n",
       "50%       0.020000  \n",
       "75%       0.020000  \n",
       "max       1.000000  "
      ]
     },
     "execution_count": 7,
     "metadata": {},
     "output_type": "execute_result"
    }
   ],
   "source": [
    "# veamos los valores númericos para conocer su comportamiento\n",
    "data.describe()"
   ]
  },
  {
   "cell_type": "markdown",
   "metadata": {},
   "source": [
    "En esta priemra instancia podemos observar que cirtos valores como *id.1, official_store_id, order_backend* no aportaran peso al modelo.\n",
    "Por otro lado la columna *sale_price* se encuentra vacia."
   ]
  },
  {
   "cell_type": "markdown",
   "metadata": {},
   "source": [
    " <a id=\"1.3\"></a>\n",
    "#### 1.3) Tratamiento del data set: columnas, duplicados y valores NaN\n",
    "En esta instancia se tratarán las columnas, valores duplicados y nulos.\n",
    "Además, determinar que registros se conservarán."
   ]
  },
  {
   "cell_type": "code",
   "execution_count": 9,
   "metadata": {},
   "outputs": [],
   "source": [
    "# eliminamos las columnas que consideramos no nos aportarán al modelo\n",
    "data_clean = data.drop(['id.1', 'official_store_id', 'order_backend'],axis =1)"
   ]
  },
  {
   "cell_type": "code",
   "execution_count": 22,
   "metadata": {
    "scrolled": true
   },
   "outputs": [
    {
     "data": {
      "text/plain": [
       "Index(['id', 'site_id', 'currency_id', 'listing_type_id', 'thumbnail_id',\n",
       "       'category_id', 'domain_id', 'catalog_product_id', 'use_thumbnail_id',\n",
       "       'state_id', 'city_id', 'level_id'],\n",
       "      dtype='object')"
      ]
     },
     "execution_count": 22,
     "metadata": {},
     "output_type": "execute_result"
    }
   ],
   "source": [
    "# conozco las columnas que posee y para referencia\n",
    "columnas_ref =data_clean.columns\n",
    "\n",
    "# exploro cuales son aquellas columnas que contienen id en su nombre y que pueden ser simplemente primaries o foreign keys\n",
    "indices_col_ref = [pos for pos, element in enumerate(columnas_ref) if 'id' in element]\n",
    "columnas_ref[indices_col_ref]"
   ]
  },
  {
   "cell_type": "code",
   "execution_count": 25,
   "metadata": {
    "scrolled": true
   },
   "outputs": [
    {
     "data": {
      "text/html": [
       "<div>\n",
       "<style scoped>\n",
       "    .dataframe tbody tr th:only-of-type {\n",
       "        vertical-align: middle;\n",
       "    }\n",
       "\n",
       "    .dataframe tbody tr th {\n",
       "        vertical-align: top;\n",
       "    }\n",
       "\n",
       "    .dataframe thead th {\n",
       "        text-align: right;\n",
       "    }\n",
       "</style>\n",
       "<table border=\"1\" class=\"dataframe\">\n",
       "  <thead>\n",
       "    <tr style=\"text-align: right;\">\n",
       "      <th></th>\n",
       "      <th>id</th>\n",
       "      <th>site_id</th>\n",
       "      <th>currency_id</th>\n",
       "      <th>listing_type_id</th>\n",
       "      <th>thumbnail_id</th>\n",
       "      <th>category_id</th>\n",
       "      <th>domain_id</th>\n",
       "      <th>catalog_product_id</th>\n",
       "      <th>use_thumbnail_id</th>\n",
       "      <th>state_id</th>\n",
       "      <th>city_id</th>\n",
       "      <th>level_id</th>\n",
       "    </tr>\n",
       "  </thead>\n",
       "  <tbody>\n",
       "    <tr>\n",
       "      <th>0</th>\n",
       "      <td>MLA898264823</td>\n",
       "      <td>MLA</td>\n",
       "      <td>ARS</td>\n",
       "      <td>gold_special</td>\n",
       "      <td>849404-MLA45797322642_052021</td>\n",
       "      <td>MLA1002</td>\n",
       "      <td>MLA-TELEVISIONS</td>\n",
       "      <td>MLA15186500</td>\n",
       "      <td>True</td>\n",
       "      <td>AR-C</td>\n",
       "      <td>NaN</td>\n",
       "      <td>5_green</td>\n",
       "    </tr>\n",
       "    <tr>\n",
       "      <th>1</th>\n",
       "      <td>MLA905996538</td>\n",
       "      <td>MLA</td>\n",
       "      <td>ARS</td>\n",
       "      <td>gold_special</td>\n",
       "      <td>836204-MLA44728420590_012021</td>\n",
       "      <td>MLA1002</td>\n",
       "      <td>MLA-TELEVISIONS</td>\n",
       "      <td>MLA17849007</td>\n",
       "      <td>True</td>\n",
       "      <td>AR-B</td>\n",
       "      <td>NaN</td>\n",
       "      <td>5_green</td>\n",
       "    </tr>\n",
       "    <tr>\n",
       "      <th>2</th>\n",
       "      <td>MLA898844422</td>\n",
       "      <td>MLA</td>\n",
       "      <td>ARS</td>\n",
       "      <td>gold_pro</td>\n",
       "      <td>878604-MLA44160072739_112020</td>\n",
       "      <td>MLA1002</td>\n",
       "      <td>MLA-TELEVISIONS</td>\n",
       "      <td>MLA16233171</td>\n",
       "      <td>True</td>\n",
       "      <td>AR-B</td>\n",
       "      <td>NaN</td>\n",
       "      <td>5_green</td>\n",
       "    </tr>\n",
       "    <tr>\n",
       "      <th>3</th>\n",
       "      <td>MLA933497704</td>\n",
       "      <td>MLA</td>\n",
       "      <td>ARS</td>\n",
       "      <td>gold_special</td>\n",
       "      <td>700522-MLA46539887496_062021</td>\n",
       "      <td>MLA352001</td>\n",
       "      <td>MLA-STREAMING_MEDIA_DEVICES</td>\n",
       "      <td>MLA14141341</td>\n",
       "      <td>True</td>\n",
       "      <td>AR-C</td>\n",
       "      <td>NaN</td>\n",
       "      <td>5_green</td>\n",
       "    </tr>\n",
       "    <tr>\n",
       "      <th>4</th>\n",
       "      <td>MLA926081002</td>\n",
       "      <td>MLA</td>\n",
       "      <td>ARS</td>\n",
       "      <td>gold_pro</td>\n",
       "      <td>893006-MLA46430431526_062021</td>\n",
       "      <td>MLA1002</td>\n",
       "      <td>MLA-TELEVISIONS</td>\n",
       "      <td>NaN</td>\n",
       "      <td>True</td>\n",
       "      <td>AR-B</td>\n",
       "      <td>NaN</td>\n",
       "      <td>5_green</td>\n",
       "    </tr>\n",
       "    <tr>\n",
       "      <th>...</th>\n",
       "      <td>...</td>\n",
       "      <td>...</td>\n",
       "      <td>...</td>\n",
       "      <td>...</td>\n",
       "      <td>...</td>\n",
       "      <td>...</td>\n",
       "      <td>...</td>\n",
       "      <td>...</td>\n",
       "      <td>...</td>\n",
       "      <td>...</td>\n",
       "      <td>...</td>\n",
       "      <td>...</td>\n",
       "    </tr>\n",
       "    <tr>\n",
       "      <th>4155</th>\n",
       "      <td>MLA871820328</td>\n",
       "      <td>MLA</td>\n",
       "      <td>ARS</td>\n",
       "      <td>gold_pro</td>\n",
       "      <td>718399-MLA41642098919_052020</td>\n",
       "      <td>MLA1652</td>\n",
       "      <td>MLA-NOTEBOOKS</td>\n",
       "      <td>NaN</td>\n",
       "      <td>False</td>\n",
       "      <td>AR-C</td>\n",
       "      <td>TUxBQlZJTDQyMjBa</td>\n",
       "      <td>5_green</td>\n",
       "    </tr>\n",
       "    <tr>\n",
       "      <th>4156</th>\n",
       "      <td>MLA900496858</td>\n",
       "      <td>MLA</td>\n",
       "      <td>ARS</td>\n",
       "      <td>gold_pro</td>\n",
       "      <td>871478-MLA42424954747_062020</td>\n",
       "      <td>MLA1652</td>\n",
       "      <td>MLA-NOTEBOOKS</td>\n",
       "      <td>NaN</td>\n",
       "      <td>False</td>\n",
       "      <td>AR-C</td>\n",
       "      <td>TUxBQkJFTDcyNTJa</td>\n",
       "      <td>5_green</td>\n",
       "    </tr>\n",
       "    <tr>\n",
       "      <th>4157</th>\n",
       "      <td>MLA895870357</td>\n",
       "      <td>MLA</td>\n",
       "      <td>ARS</td>\n",
       "      <td>gold_pro</td>\n",
       "      <td>612018-MLA46887309472_072021</td>\n",
       "      <td>MLA1652</td>\n",
       "      <td>MLA-NOTEBOOKS</td>\n",
       "      <td>MLA17328361</td>\n",
       "      <td>False</td>\n",
       "      <td>AR-B</td>\n",
       "      <td>NaN</td>\n",
       "      <td>5_green</td>\n",
       "    </tr>\n",
       "    <tr>\n",
       "      <th>4158</th>\n",
       "      <td>MLA866181995</td>\n",
       "      <td>MLA</td>\n",
       "      <td>ARS</td>\n",
       "      <td>gold_special</td>\n",
       "      <td>698116-MLA46101176637_052021</td>\n",
       "      <td>MLA1652</td>\n",
       "      <td>MLA-NOTEBOOKS</td>\n",
       "      <td>MLA16053932</td>\n",
       "      <td>False</td>\n",
       "      <td>AR-C</td>\n",
       "      <td>TUxBQlNBTjgzMjRa</td>\n",
       "      <td>5_green</td>\n",
       "    </tr>\n",
       "    <tr>\n",
       "      <th>4159</th>\n",
       "      <td>MLA905530596</td>\n",
       "      <td>MLA</td>\n",
       "      <td>ARS</td>\n",
       "      <td>gold_special</td>\n",
       "      <td>983486-MLA44700860410_012021</td>\n",
       "      <td>MLA1652</td>\n",
       "      <td>MLA-NOTEBOOKS</td>\n",
       "      <td>MLA15248647</td>\n",
       "      <td>False</td>\n",
       "      <td>AR-C</td>\n",
       "      <td>TUxBQlBVRTQ5NjBa</td>\n",
       "      <td>5_green</td>\n",
       "    </tr>\n",
       "  </tbody>\n",
       "</table>\n",
       "<p>4160 rows × 12 columns</p>\n",
       "</div>"
      ],
      "text/plain": [
       "                id site_id currency_id listing_type_id  \\\n",
       "0     MLA898264823     MLA         ARS    gold_special   \n",
       "1     MLA905996538     MLA         ARS    gold_special   \n",
       "2     MLA898844422     MLA         ARS        gold_pro   \n",
       "3     MLA933497704     MLA         ARS    gold_special   \n",
       "4     MLA926081002     MLA         ARS        gold_pro   \n",
       "...            ...     ...         ...             ...   \n",
       "4155  MLA871820328     MLA         ARS        gold_pro   \n",
       "4156  MLA900496858     MLA         ARS        gold_pro   \n",
       "4157  MLA895870357     MLA         ARS        gold_pro   \n",
       "4158  MLA866181995     MLA         ARS    gold_special   \n",
       "4159  MLA905530596     MLA         ARS    gold_special   \n",
       "\n",
       "                      thumbnail_id category_id                    domain_id  \\\n",
       "0     849404-MLA45797322642_052021     MLA1002              MLA-TELEVISIONS   \n",
       "1     836204-MLA44728420590_012021     MLA1002              MLA-TELEVISIONS   \n",
       "2     878604-MLA44160072739_112020     MLA1002              MLA-TELEVISIONS   \n",
       "3     700522-MLA46539887496_062021   MLA352001  MLA-STREAMING_MEDIA_DEVICES   \n",
       "4     893006-MLA46430431526_062021     MLA1002              MLA-TELEVISIONS   \n",
       "...                            ...         ...                          ...   \n",
       "4155  718399-MLA41642098919_052020     MLA1652                MLA-NOTEBOOKS   \n",
       "4156  871478-MLA42424954747_062020     MLA1652                MLA-NOTEBOOKS   \n",
       "4157  612018-MLA46887309472_072021     MLA1652                MLA-NOTEBOOKS   \n",
       "4158  698116-MLA46101176637_052021     MLA1652                MLA-NOTEBOOKS   \n",
       "4159  983486-MLA44700860410_012021     MLA1652                MLA-NOTEBOOKS   \n",
       "\n",
       "     catalog_product_id  use_thumbnail_id state_id           city_id level_id  \n",
       "0           MLA15186500              True     AR-C               NaN  5_green  \n",
       "1           MLA17849007              True     AR-B               NaN  5_green  \n",
       "2           MLA16233171              True     AR-B               NaN  5_green  \n",
       "3           MLA14141341              True     AR-C               NaN  5_green  \n",
       "4                   NaN              True     AR-B               NaN  5_green  \n",
       "...                 ...               ...      ...               ...      ...  \n",
       "4155                NaN             False     AR-C  TUxBQlZJTDQyMjBa  5_green  \n",
       "4156                NaN             False     AR-C  TUxBQkJFTDcyNTJa  5_green  \n",
       "4157        MLA17328361             False     AR-B               NaN  5_green  \n",
       "4158        MLA16053932             False     AR-C  TUxBQlNBTjgzMjRa  5_green  \n",
       "4159        MLA15248647             False     AR-C  TUxBQlBVRTQ5NjBa  5_green  \n",
       "\n",
       "[4160 rows x 12 columns]"
      ]
     },
     "execution_count": 25,
     "metadata": {},
     "output_type": "execute_result"
    }
   ],
   "source": [
    "# veamos el data set que contiene solamente columnas con la palabra id\n",
    "data_clean[columnas_ref[indices_col_ref]]"
   ]
  },
  {
   "cell_type": "code",
   "execution_count": 36,
   "metadata": {},
   "outputs": [],
   "source": [
    "def cant_valores_unicos(df):\n",
    "    '''Cuenta la cantidad de valores unicos que existen cada columna de un dataset y devuelve un diccionario'''\n",
    "    columnas = df.columns\n",
    "    rta = {}\n",
    "    for col in columnas:\n",
    "        rta[col] = len(df[col].value_counts())\n",
    "    return rta"
   ]
  },
  {
   "cell_type": "code",
   "execution_count": 37,
   "metadata": {},
   "outputs": [
    {
     "data": {
      "text/plain": [
       "{'id': 4152,\n",
       " 'site_id': 1,\n",
       " 'currency_id': 1,\n",
       " 'listing_type_id': 2,\n",
       " 'thumbnail_id': 3437,\n",
       " 'category_id': 14,\n",
       " 'domain_id': 11,\n",
       " 'catalog_product_id': 1221,\n",
       " 'use_thumbnail_id': 2,\n",
       " 'state_id': 19,\n",
       " 'city_id': 98,\n",
       " 'level_id': 4}"
      ]
     },
     "execution_count": 37,
     "metadata": {},
     "output_type": "execute_result"
    }
   ],
   "source": [
    "cant_valores_unicos( data_clean[columnas_ref[indices_col_ref]] )"
   ]
  },
  {
   "cell_type": "markdown",
   "metadata": {},
   "source": [
    "Como se puede observar, solo hay valores únicos para *site_id, currency_id* por lo tanto dropeare estos ya que no aportaran sustancialmente algo al modelo. Esto tiene sentido ya que los valores de las busquedas a la API se realizaron mediante el sitio MLA, por consiguiente la moneda predominante debería ser PESOS ARS."
   ]
  },
  {
   "cell_type": "code",
   "execution_count": 41,
   "metadata": {},
   "outputs": [],
   "source": [
    "data_clean = data_clean.drop(['site_id', 'currency_id'],axis =1)"
   ]
  },
  {
   "cell_type": "markdown",
   "metadata": {},
   "source": [
    "Ocurre algo similar con *state_id, city_id* donde al ya tener *state_name, y city_name* estas resultan redundantes para el análisis. Así que tambien serán dropeadas."
   ]
  },
  {
   "cell_type": "code",
   "execution_count": 43,
   "metadata": {},
   "outputs": [],
   "source": [
    "data_clean = data_clean.drop(['state_id', 'city_id'],axis =1)"
   ]
  },
  {
   "cell_type": "markdown",
   "metadata": {},
   "source": [
    "Tratamiento de valores duplicados, existen valores duplicados? es decir que contengan exactamente la misma data en sus registros."
   ]
  },
  {
   "cell_type": "code",
   "execution_count": 47,
   "metadata": {
    "scrolled": true
   },
   "outputs": [
    {
     "name": "stdout",
     "output_type": "stream",
     "text": [
      "Hay 8 registros duplicados\n",
      "\n",
      "Quedan registros duplicados? False\n"
     ]
    }
   ],
   "source": [
    "# tratamiento de duplicados\n",
    "print('Hay {} registros duplicados'.format(data_clean.duplicated().sum() ))\n",
    "\n",
    "# eliminamos los registros duplicados\n",
    "data_clean.drop_duplicates(inplace = True, keep='last')\n",
    "\n",
    "print('\\nQuedan registros duplicados?', data.duplicated().any() )"
   ]
  },
  {
   "cell_type": "markdown",
   "metadata": {},
   "source": [
    "Respecto de datos *id* de las publicaciones que actuarian como una llave para los registros. En este caso, la cantidad de registros únicos coincidecon la cantidad de registros duplicados.\n",
    "Por otro lado, respecto de las miñiaturas *thumbnail_id, use_thumbnail_id* no serán incorporadas al modelo."
   ]
  },
  {
   "cell_type": "code",
   "execution_count": 49,
   "metadata": {},
   "outputs": [],
   "source": [
    "data_clean = data_clean.drop(['thumbnail_id', 'use_thumbnail_id'],axis =1)"
   ]
  },
  {
   "cell_type": "markdown",
   "metadata": {},
   "source": [
    "La columna *category_id* esta estreñamente relacionada con *domain_id* por lo tanto mantendremos solamente *domain_id*, que se utilizó en una instancia anterior para poder analizar los datos por categorias."
   ]
  },
  {
   "cell_type": "code",
   "execution_count": 51,
   "metadata": {},
   "outputs": [],
   "source": [
    "data_clean = data_clean.drop(['category_id'],axis =1)"
   ]
  },
  {
   "cell_type": "code",
   "execution_count": 52,
   "metadata": {},
   "outputs": [
    {
     "data": {
      "text/plain": [
       "Index(['id', 'listing_type_id', 'domain_id', 'catalog_product_id', 'level_id'], dtype='object')"
      ]
     },
     "execution_count": 52,
     "metadata": {},
     "output_type": "execute_result"
    }
   ],
   "source": [
    "# volvamos a ver cuantas son las que columnas que conservamos\n",
    "columnas_ref2 =data_clean.columns\n",
    "indices_col_ref2 = [pos for pos, element in enumerate(columnas_ref2) if 'id' in element]\n",
    "columnas_ref2[indices_col_ref2]"
   ]
  },
  {
   "cell_type": "code",
   "execution_count": 54,
   "metadata": {},
   "outputs": [
    {
     "data": {
      "text/plain": [
       "5_green          3996\n",
       "3_yellow           48\n",
       "2_orange           13\n",
       "4_light_green       8\n",
       "Name: level_id, dtype: int64"
      ]
     },
     "execution_count": 54,
     "metadata": {},
     "output_type": "execute_result"
    }
   ],
   "source": [
    "# level_id parece indicar, siendo redundante, el nivel donde verde es muy bueno y naranja no tan bueno, esto relacionado\n",
    "# con la confiabilidad/reputacion del vendedor que se indica en el portal de mercado libre usando esta escala.\n",
    "data_clean['level_id'].value_counts()"
   ]
  },
  {
   "cell_type": "code",
   "execution_count": 56,
   "metadata": {},
   "outputs": [
    {
     "data": {
      "text/plain": [
       "gold_special    2823\n",
       "gold_pro        1329\n",
       "Name: listing_type_id, dtype: int64"
      ]
     },
     "execution_count": 56,
     "metadata": {},
     "output_type": "execute_result"
    }
   ],
   "source": [
    "# veamos que pasa con listing_type, el tipo de cotizacion se puede ver que hay dos tipos de categoria\n",
    "data_clean['listing_type_id'].value_counts()"
   ]
  },
  {
   "cell_type": "markdown",
   "metadata": {},
   "source": [
    "Para esta instancia es claro denotar que hay información que puede ser redundante y a su vez equivalente a otras, la descripción de una publicación se conrresponde con el id, pero ofrece data que puede ser más sustancial.\n",
    "\n",
    "Por otro lado, *catalog_product_id* es el producto que se publica, que puede ser común para varias publicaciones (estan correlacionadas)"
   ]
  },
  {
   "cell_type": "code",
   "execution_count": 75,
   "metadata": {},
   "outputs": [],
   "source": [
    "data_clean = data_clean.drop(['id'],axis =1)"
   ]
  },
  {
   "cell_type": "markdown",
   "metadata": {},
   "source": [
    "Concentremonos en los **valores nulos** que tenemos, como se vio anteriormente *sale_price* es la única columna con todos sus registros nulos."
   ]
  },
  {
   "cell_type": "code",
   "execution_count": 76,
   "metadata": {},
   "outputs": [],
   "source": [
    "data_clean = data_clean.drop(['sale_price'],axis =1)"
   ]
  },
  {
   "cell_type": "markdown",
   "metadata": {},
   "source": [
    "<a id=\"1.4\"></a>\n",
    "#### 1.4) Eliminación de Outliers"
   ]
  },
  {
   "cell_type": "markdown",
   "metadata": {},
   "source": [
    "En esta instancia se eliminaran ciertos outliers que pueden hacer ruido en el modelo, principalmente aquellos vistos en la Parte I (ver en el<a href = 'https://github.com/Mattzvl/EDA_API_ML'> EDA_API_MELI </a> para mas detalles).</p> En este caso se empezará por el precio"
   ]
  },
  {
   "cell_type": "code",
   "execution_count": 136,
   "metadata": {},
   "outputs": [
    {
     "data": {
      "image/png": "[encoded data removed]",
      "text/plain": [
       "<Figure size 1152x288 with 2 Axes>"
      ]
     },
     "metadata": {
      "needs_background": "light"
     },
     "output_type": "display_data"
    }
   ],
   "source": [
    "plt.figure(figsize = (16, 4))\n",
    "ax = plt.subplot(1,2,1)\n",
    "plt.boxplot(data=data_clean, x='original_price')\n",
    "plt.title('Boxplot de Precio original');\n",
    "\n",
    "ax = plt.subplot(1,2,2)\n",
    "plt.hist(data=data_clean, x='original_price', bins=50)\n",
    "plt.title('Histograma Precio original');"
   ]
  },
  {
   "cell_type": "markdown",
   "metadata": {},
   "source": [
    "La forma del histograma hace recordar a los vistos en la parte 1, en particular para Tables y Televisores"
   ]
  },
  {
   "cell_type": "code",
   "execution_count": 132,
   "metadata": {},
   "outputs": [],
   "source": [
    "# quitamos las  filas con distancias mayores a 1.5 + IQR\n",
    "Q1_d, Q3_d = np.percentile(data_clean['original_price'], [25, 75])\n",
    "IQR_d = Q3_d-Q1_d\n",
    "lower_bound_d = Q1_d - (1.5 * IQR_d)\n",
    "upper_bound_d = Q3_d + (1.5 * IQR_d)\n",
    "# outlier_index = np.where((x < lower_bound) | (x > upper_bound))\n",
    "\n",
    "# nos quedamos con las aquellos precios originales menores al quartil 3\n",
    "data_clean2 = data_clean.loc[data_clean['original_price'] < upper_bound_d]"
   ]
  },
  {
   "cell_type": "code",
   "execution_count": 138,
   "metadata": {},
   "outputs": [
    {
     "data": {
      "image/png": "[encoded data removed]",
      "text/plain": [
       "<Figure size 1152x288 with 2 Axes>"
      ]
     },
     "metadata": {
      "needs_background": "light"
     },
     "output_type": "display_data"
    }
   ],
   "source": [
    "# veamos como resulto leugo de la eliminación de outlies\n",
    "plt.figure(figsize = (16, 4))\n",
    "ax = plt.subplot(1,2,1)\n",
    "plt.boxplot(data=data_clean2, x='original_price')\n",
    "plt.title('Boxplot de Precio original');\n",
    "\n",
    "ax = plt.subplot(1,2,2)\n",
    "plt.hist(data=data_clean2, x='original_price', bins=50)\n",
    "plt.title('Histograma de Precio original');"
   ]
  },
  {
   "cell_type": "markdown",
   "metadata": {},
   "source": [
    "Luego de la eliminación de Outliers se puede apreciar una distribución normal segada por la derecha, si bien siguen quedando algunos valores que estan algo por encima fuera del boxplot, los conservaremos apra el modelo."
   ]
  },
  {
   "cell_type": "code",
   "execution_count": null,
   "metadata": {},
   "outputs": [],
   "source": []
  },
  {
   "cell_type": "code",
   "execution_count": null,
   "metadata": {},
   "outputs": [],
   "source": []
  },
  {
   "cell_type": "code",
   "execution_count": null,
   "metadata": {},
   "outputs": [],
   "source": []
  },
  {
   "cell_type": "markdown",
   "metadata": {},
   "source": [
    "<a id=\"1.6\"></a>\n",
    "#### 1.6) Feature Engineering"
   ]
  },
  {
   "cell_type": "markdown",
   "metadata": {},
   "source": [
    "Respecto de los valores **nulos** de la columna *original_price*, aquellos registros con valores *nulls* corresponden a valores donde se aplica un descuento. Al ser *original_price* correlativa a *price*, voy a conservar price, sin embargo se generará un nuevo campo que represente el % de descuento."
   ]
  },
  {
   "cell_type": "code",
   "execution_count": 119,
   "metadata": {},
   "outputs": [
    {
     "data": {
      "text/html": [
       "<div>\n",
       "<style scoped>\n",
       "    .dataframe tbody tr th:only-of-type {\n",
       "        vertical-align: middle;\n",
       "    }\n",
       "\n",
       "    .dataframe tbody tr th {\n",
       "        vertical-align: top;\n",
       "    }\n",
       "\n",
       "    .dataframe thead th {\n",
       "        text-align: right;\n",
       "    }\n",
       "</style>\n",
       "<table border=\"1\" class=\"dataframe\">\n",
       "  <thead>\n",
       "    <tr style=\"text-align: right;\">\n",
       "      <th></th>\n",
       "      <th>price</th>\n",
       "      <th>original_price</th>\n",
       "    </tr>\n",
       "  </thead>\n",
       "  <tbody>\n",
       "    <tr>\n",
       "      <th>2558</th>\n",
       "      <td>16890.0</td>\n",
       "      <td>16890.0</td>\n",
       "    </tr>\n",
       "    <tr>\n",
       "      <th>2395</th>\n",
       "      <td>17999.0</td>\n",
       "      <td>25999.0</td>\n",
       "    </tr>\n",
       "    <tr>\n",
       "      <th>3938</th>\n",
       "      <td>159595.0</td>\n",
       "      <td>159595.0</td>\n",
       "    </tr>\n",
       "    <tr>\n",
       "      <th>730</th>\n",
       "      <td>72929.0</td>\n",
       "      <td>72929.0</td>\n",
       "    </tr>\n",
       "    <tr>\n",
       "      <th>937</th>\n",
       "      <td>14000.0</td>\n",
       "      <td>14000.0</td>\n",
       "    </tr>\n",
       "    <tr>\n",
       "      <th>1360</th>\n",
       "      <td>37524.0</td>\n",
       "      <td>37524.0</td>\n",
       "    </tr>\n",
       "    <tr>\n",
       "      <th>1180</th>\n",
       "      <td>10490.0</td>\n",
       "      <td>10490.0</td>\n",
       "    </tr>\n",
       "  </tbody>\n",
       "</table>\n",
       "</div>"
      ],
      "text/plain": [
       "         price  original_price\n",
       "2558   16890.0         16890.0\n",
       "2395   17999.0         25999.0\n",
       "3938  159595.0        159595.0\n",
       "730    72929.0         72929.0\n",
       "937    14000.0         14000.0\n",
       "1360   37524.0         37524.0\n",
       "1180   10490.0         10490.0"
      ]
     },
     "execution_count": 119,
     "metadata": {},
     "output_type": "execute_result"
    }
   ],
   "source": [
    "data_clean2[['price','original_price']].sample(7)"
   ]
  },
  {
   "cell_type": "code",
   "execution_count": 118,
   "metadata": {},
   "outputs": [
    {
     "data": {
      "text/plain": [
       "0"
      ]
     },
     "execution_count": 118,
     "metadata": {},
     "output_type": "execute_result"
    }
   ],
   "source": [
    "# completo los datos nulo de original_price con los valores de price\n",
    "data_clean2['original_price'].fillna(data_clean2['price'], inplace = True)\n",
    "#y verifico por si acaso\n",
    "data_clean2['original_price'].isnull().sum()"
   ]
  },
  {
   "cell_type": "code",
   "execution_count": 121,
   "metadata": {},
   "outputs": [
    {
     "data": {
      "text/html": [
       "<div>\n",
       "<style scoped>\n",
       "    .dataframe tbody tr th:only-of-type {\n",
       "        vertical-align: middle;\n",
       "    }\n",
       "\n",
       "    .dataframe tbody tr th {\n",
       "        vertical-align: top;\n",
       "    }\n",
       "\n",
       "    .dataframe thead th {\n",
       "        text-align: right;\n",
       "    }\n",
       "</style>\n",
       "<table border=\"1\" class=\"dataframe\">\n",
       "  <thead>\n",
       "    <tr style=\"text-align: right;\">\n",
       "      <th></th>\n",
       "      <th>title</th>\n",
       "      <th>price</th>\n",
       "      <th>prices</th>\n",
       "      <th>available_quantity</th>\n",
       "      <th>sold_quantity</th>\n",
       "      <th>buying_mode</th>\n",
       "      <th>listing_type_id</th>\n",
       "      <th>stop_time</th>\n",
       "      <th>condition</th>\n",
       "      <th>permalink</th>\n",
       "      <th>...</th>\n",
       "      <th>neutral</th>\n",
       "      <th>claims</th>\n",
       "      <th>delayed_handling_time</th>\n",
       "      <th>sales</th>\n",
       "      <th>cancellations</th>\n",
       "      <th>free_shipping</th>\n",
       "      <th>mode</th>\n",
       "      <th>tags.2</th>\n",
       "      <th>logistic_type</th>\n",
       "      <th>store_pick_up</th>\n",
       "    </tr>\n",
       "  </thead>\n",
       "  <tbody>\n",
       "  </tbody>\n",
       "</table>\n",
       "<p>0 rows × 51 columns</p>\n",
       "</div>"
      ],
      "text/plain": [
       "Empty DataFrame\n",
       "Columns: [title, price, prices, available_quantity, sold_quantity, buying_mode, listing_type_id, stop_time, condition, permalink, thumbnail, accepts_mercadopago, installments, shipping, seller_address, attributes, original_price, domain_id, catalog_product_id, tags, catalog_listing, differential_pricing, permalink.1, registration_date, car_dealer, real_estate_agency, tags.1, eshop, seller_reputation, state_name, city_name, power_seller_status, level_id, protection_end_date, real_level, total, canceled, period, completed, negative, positive, neutral, claims, delayed_handling_time, sales, cancellations, free_shipping, mode, tags.2, logistic_type, store_pick_up]\n",
       "Index: []\n",
       "\n",
       "[0 rows x 51 columns]"
      ]
     },
     "execution_count": 121,
     "metadata": {},
     "output_type": "execute_result"
    }
   ],
   "source": [
    "# chequeo que no haya ningun valor de precio con valores = 0, es decir, Free!\n",
    "data_clean2[data_clean2['original_price'] == 0]"
   ]
  },
  {
   "cell_type": "code",
   "execution_count": 122,
   "metadata": {},
   "outputs": [],
   "source": [
    "# creo una nueva columna donde indico el valor del descuento que se aplica en la publciacion\n",
    "data_clean2['discount'] = 1 - data_clean2['price']/data_clean2['original_price']"
   ]
  },
  {
   "cell_type": "code",
   "execution_count": null,
   "metadata": {},
   "outputs": [],
   "source": []
  },
  {
   "cell_type": "code",
   "execution_count": null,
   "metadata": {},
   "outputs": [],
   "source": []
  },
  {
   "cell_type": "code",
   "execution_count": 125,
   "metadata": {},
   "outputs": [],
   "source": [
    "# para visualizar mejor \n",
    "data_clean2.to_excel('./data/data_clean2.xlsx', index= False)"
   ]
  },
  {
   "cell_type": "markdown",
   "metadata": {},
   "source": [
    "Datos unicos? para no tener un data set desbalanceado voy a eliminar aquellos casos donde solo haya un registro. Ya que hacer upper sampling implicaría simplemente en duplicar los registros únicos para las categorías de *domain_id*\n",
    "donde solo tengo un valor."
   ]
  },
  {
   "cell_type": "code",
   "execution_count": 79,
   "metadata": {
    "scrolled": true
   },
   "outputs": [
    {
     "data": {
      "text/plain": [
       "MLA-NOTEBOOKS                                 1048\n",
       "MLA-TABLETS                                   1040\n",
       "MLA-CELLPHONES                                1025\n",
       "MLA-TELEVISIONS                                826\n",
       "MLA-STREAMING_MEDIA_DEVICES                    110\n",
       "MLA-TV_REMOTE_CONTROLS                          48\n",
       "MLA-AUDIO_AND_VIDEO_CABLES_AND_ADAPTERS         43\n",
       "MLA-TV_AND_MONITOR_MOUNTS                        9\n",
       "MLA-TV_RECEIVERS_AND_DECODERS                    1\n",
       "MLA-TV_REMOTE_CONTROL_COVERS                     1\n",
       "MLA-ELECTRONIC_ACCESSORIES_AND_SPARE_PARTS       1\n",
       "Name: domain_id, dtype: int64"
      ]
     },
     "execution_count": 79,
     "metadata": {},
     "output_type": "execute_result"
    }
   ],
   "source": [
    "# tipos de dominios, para identificar si la busqueda me devolvio efectivamente los cambos de las busquedas\n",
    "data_clean2.domain_id.value_counts()"
   ]
  },
  {
   "cell_type": "markdown",
   "metadata": {},
   "source": [
    "<a id=\"1.5\"></a>\n",
    "#### 1.5) Visualizacion de datos"
   ]
  },
  {
   "cell_type": "code",
   "execution_count": 141,
   "metadata": {
    "scrolled": false
   },
   "outputs": [
    {
     "data": {
      "text/html": [
       "<div>\n",
       "<style scoped>\n",
       "    .dataframe tbody tr th:only-of-type {\n",
       "        vertical-align: middle;\n",
       "    }\n",
       "\n",
       "    .dataframe tbody tr th {\n",
       "        vertical-align: top;\n",
       "    }\n",
       "\n",
       "    .dataframe thead th {\n",
       "        text-align: right;\n",
       "    }\n",
       "</style>\n",
       "<table border=\"1\" class=\"dataframe\">\n",
       "  <thead>\n",
       "    <tr style=\"text-align: right;\">\n",
       "      <th></th>\n",
       "      <th>mean</th>\n",
       "      <th>median</th>\n",
       "      <th>std</th>\n",
       "      <th>max</th>\n",
       "      <th>min</th>\n",
       "    </tr>\n",
       "    <tr>\n",
       "      <th>domain_id</th>\n",
       "      <th></th>\n",
       "      <th></th>\n",
       "      <th></th>\n",
       "      <th></th>\n",
       "      <th></th>\n",
       "    </tr>\n",
       "  </thead>\n",
       "  <tbody>\n",
       "    <tr>\n",
       "      <th>MLA-NOTEBOOKS</th>\n",
       "      <td>112929.78</td>\n",
       "      <td>109000.00</td>\n",
       "      <td>43022.86</td>\n",
       "      <td>216000.0</td>\n",
       "      <td>1000.00</td>\n",
       "    </tr>\n",
       "    <tr>\n",
       "      <th>MLA-TELEVISIONS</th>\n",
       "      <td>82403.79</td>\n",
       "      <td>75999.00</td>\n",
       "      <td>38652.75</td>\n",
       "      <td>215000.0</td>\n",
       "      <td>33.00</td>\n",
       "    </tr>\n",
       "    <tr>\n",
       "      <th>MLA-CELLPHONES</th>\n",
       "      <td>34057.05</td>\n",
       "      <td>23999.00</td>\n",
       "      <td>32174.29</td>\n",
       "      <td>208999.0</td>\n",
       "      <td>50.00</td>\n",
       "    </tr>\n",
       "    <tr>\n",
       "      <th>MLA-TABLETS</th>\n",
       "      <td>28441.38</td>\n",
       "      <td>16129.00</td>\n",
       "      <td>33415.40</td>\n",
       "      <td>214999.0</td>\n",
       "      <td>65.00</td>\n",
       "    </tr>\n",
       "    <tr>\n",
       "      <th>MLA-STREAMING_MEDIA_DEVICES</th>\n",
       "      <td>11134.63</td>\n",
       "      <td>10998.50</td>\n",
       "      <td>4876.99</td>\n",
       "      <td>49400.0</td>\n",
       "      <td>5490.00</td>\n",
       "    </tr>\n",
       "    <tr>\n",
       "      <th>MLA-TV_RECEIVERS_AND_DECODERS</th>\n",
       "      <td>9999.00</td>\n",
       "      <td>9999.00</td>\n",
       "      <td>NaN</td>\n",
       "      <td>9999.0</td>\n",
       "      <td>9999.00</td>\n",
       "    </tr>\n",
       "    <tr>\n",
       "      <th>MLA-ELECTRONIC_ACCESSORIES_AND_SPARE_PARTS</th>\n",
       "      <td>6999.00</td>\n",
       "      <td>6999.00</td>\n",
       "      <td>NaN</td>\n",
       "      <td>6999.0</td>\n",
       "      <td>6999.00</td>\n",
       "    </tr>\n",
       "    <tr>\n",
       "      <th>MLA-TV_AND_MONITOR_MOUNTS</th>\n",
       "      <td>2374.61</td>\n",
       "      <td>499.99</td>\n",
       "      <td>3402.24</td>\n",
       "      <td>9380.0</td>\n",
       "      <td>299.99</td>\n",
       "    </tr>\n",
       "    <tr>\n",
       "      <th>MLA-TV_REMOTE_CONTROL_COVERS</th>\n",
       "      <td>1600.00</td>\n",
       "      <td>1600.00</td>\n",
       "      <td>NaN</td>\n",
       "      <td>1600.0</td>\n",
       "      <td>1600.00</td>\n",
       "    </tr>\n",
       "    <tr>\n",
       "      <th>MLA-AUDIO_AND_VIDEO_CABLES_AND_ADAPTERS</th>\n",
       "      <td>1560.79</td>\n",
       "      <td>1299.00</td>\n",
       "      <td>1166.62</td>\n",
       "      <td>3990.0</td>\n",
       "      <td>199.91</td>\n",
       "    </tr>\n",
       "    <tr>\n",
       "      <th>MLA-TV_REMOTE_CONTROLS</th>\n",
       "      <td>1341.41</td>\n",
       "      <td>823.50</td>\n",
       "      <td>1497.50</td>\n",
       "      <td>6999.0</td>\n",
       "      <td>499.00</td>\n",
       "    </tr>\n",
       "  </tbody>\n",
       "</table>\n",
       "</div>"
      ],
      "text/plain": [
       "                                                 mean     median       std  \\\n",
       "domain_id                                                                    \n",
       "MLA-NOTEBOOKS                               112929.78  109000.00  43022.86   \n",
       "MLA-TELEVISIONS                              82403.79   75999.00  38652.75   \n",
       "MLA-CELLPHONES                               34057.05   23999.00  32174.29   \n",
       "MLA-TABLETS                                  28441.38   16129.00  33415.40   \n",
       "MLA-STREAMING_MEDIA_DEVICES                  11134.63   10998.50   4876.99   \n",
       "MLA-TV_RECEIVERS_AND_DECODERS                 9999.00    9999.00       NaN   \n",
       "MLA-ELECTRONIC_ACCESSORIES_AND_SPARE_PARTS    6999.00    6999.00       NaN   \n",
       "MLA-TV_AND_MONITOR_MOUNTS                     2374.61     499.99   3402.24   \n",
       "MLA-TV_REMOTE_CONTROL_COVERS                  1600.00    1600.00       NaN   \n",
       "MLA-AUDIO_AND_VIDEO_CABLES_AND_ADAPTERS       1560.79    1299.00   1166.62   \n",
       "MLA-TV_REMOTE_CONTROLS                        1341.41     823.50   1497.50   \n",
       "\n",
       "                                                 max      min  \n",
       "domain_id                                                      \n",
       "MLA-NOTEBOOKS                               216000.0  1000.00  \n",
       "MLA-TELEVISIONS                             215000.0    33.00  \n",
       "MLA-CELLPHONES                              208999.0    50.00  \n",
       "MLA-TABLETS                                 214999.0    65.00  \n",
       "MLA-STREAMING_MEDIA_DEVICES                  49400.0  5490.00  \n",
       "MLA-TV_RECEIVERS_AND_DECODERS                 9999.0  9999.00  \n",
       "MLA-ELECTRONIC_ACCESSORIES_AND_SPARE_PARTS    6999.0  6999.00  \n",
       "MLA-TV_AND_MONITOR_MOUNTS                     9380.0   299.99  \n",
       "MLA-TV_REMOTE_CONTROL_COVERS                  1600.0  1600.00  \n",
       "MLA-AUDIO_AND_VIDEO_CABLES_AND_ADAPTERS       3990.0   199.91  \n",
       "MLA-TV_REMOTE_CONTROLS                        6999.0   499.00  "
      ]
     },
     "execution_count": 141,
     "metadata": {},
     "output_type": "execute_result"
    }
   ],
   "source": [
    "(data_clean2.groupby('domain_id')['original_price'].agg(['mean','median','std','max','min']).round(2)).sort_values(by = 'mean', ascending=False)"
   ]
  },
  {
   "cell_type": "markdown",
   "metadata": {},
   "source": [
    "Las notebooks representan aquellos productos que tienen el mayor precio promedio (independientemente de la gama del articulo)\n",
    "En tanto que las tablets tienen el menor precio medio.\n",
    "\n",
    "Los valores máx quedaron mucho más coherentes, aunque hay casos donde el min de television, telefonos y tablet que son casi 2500 veces menores a la media, del orden de 1e-4.\n",
    "\n",
    "Aquellos que tienen std = NaN, son aquellos elementos que son unicos, ya que temino dividinedo por 0 (n-1).\n",
    "Estos son productos que se colaron el la busqueda de television, donde los resultados entregados no fueron tan precisos como con tablets, notebooks y celulares.\n",
    "\n",
    "domain_id = ['MLA-ELECTRONIC_ACCESSORIES_AND_SPARE_PARTS', 'MLA-TV_RECEIVERS_AND_DECODERS', 'MLA-TV_REMOTE_CONTROL_COVERS']"
   ]
  },
  {
   "cell_type": "code",
   "execution_count": 142,
   "metadata": {},
   "outputs": [
    {
     "data": {
      "image/png": "[encoded data removed]",
      "text/plain": [
       "<Figure size 1152x288 with 2 Axes>"
      ]
     },
     "metadata": {
      "needs_background": "light"
     },
     "output_type": "display_data"
    }
   ],
   "source": [
    "plt.figure(figsize = (16, 4))\n",
    "\n",
    "ax = plt.subplot(1,2,1)\n",
    "data_2plot = data_clean2[data_clean2['domain_id'] == 'MLA-TELEVISIONS']\n",
    "plt.hist(data=data_2plot, x='price', bins=50)\n",
    "plt.title('Histograma Televisores 4K')\n",
    "\n",
    "ax = plt.subplot(1,2,2)\n",
    "sns.violinplot(data=data_2plot, x='price', bins=10)\n",
    "plt.title('Violinplot Televisores 4K')\n",
    "plt.show()"
   ]
  },
  {
   "cell_type": "code",
   "execution_count": 143,
   "metadata": {
    "scrolled": true
   },
   "outputs": [
    {
     "data": {
      "image/png": "[encoded data removed]",
      "text/plain": [
       "<Figure size 1152x288 with 2 Axes>"
      ]
     },
     "metadata": {
      "needs_background": "light"
     },
     "output_type": "display_data"
    }
   ],
   "source": [
    "plt.figure(figsize = (16, 4))\n",
    "ax = plt.subplot(1,2,1)\n",
    "data_2plot = data_clean2[data_clean2['domain_id'] == 'MLA-CELLPHONES']\n",
    "plt.hist(data=data_2plot, x='price', bins=50, color= 'green')\n",
    "plt.title('Histograma Celulares 4K')\n",
    "\n",
    "ax = plt.subplot(1,2,2)\n",
    "sns.violinplot(data=data_2plot, x='price', bins=10, color= 'green')\n",
    "plt.title('Violinplot Celulares 4K')\n",
    "plt.show()"
   ]
  },
  {
   "cell_type": "code",
   "execution_count": 144,
   "metadata": {},
   "outputs": [
    {
     "data": {
      "image/png": "[encoded data removed]",
      "text/plain": [
       "<Figure size 1152x288 with 2 Axes>"
      ]
     },
     "metadata": {
      "needs_background": "light"
     },
     "output_type": "display_data"
    }
   ],
   "source": [
    "plt.figure(figsize = (16, 4))\n",
    "ax = plt.subplot(1,2,1)\n",
    "data_2plot = data_clean2[data_clean2['domain_id'] == 'MLA-TABLETS']\n",
    "plt.hist(data=data_2plot, x='price', bins=50, color= 'red')\n",
    "plt.title('Histograma Tables')\n",
    "\n",
    "ax = plt.subplot(1,2,2)\n",
    "sns.violinplot(data=data_2plot, x='price', bins=50, color= 'red')\n",
    "plt.title('Violinplot Tablets')\n",
    "plt.show()"
   ]
  },
  {
   "cell_type": "code",
   "execution_count": 146,
   "metadata": {},
   "outputs": [
    {
     "data": {
      "image/png": "[encoded data removed]",
      "text/plain": [
       "<Figure size 1152x288 with 2 Axes>"
      ]
     },
     "metadata": {
      "needs_background": "light"
     },
     "output_type": "display_data"
    }
   ],
   "source": [
    "plt.figure(figsize = (16, 4))\n",
    "ax = plt.subplot(1,2,1)\n",
    "data_2plot = data_clean2[data_clean2['domain_id'] == 'MLA-NOTEBOOKS']\n",
    "plt.hist(data=data_2plot, x='price', bins=50, color= 'purple')\n",
    "plt.title('Histograma Notebooks')\n",
    "\n",
    "ax = plt.subplot(1,2,2)\n",
    "sns.violinplot(data=data_2plot, x='price', bins=50, color= 'purple')\n",
    "plt.title('Violinplot Notebooks')\n",
    "plt.show()"
   ]
  },
  {
   "cell_type": "markdown",
   "metadata": {},
   "source": [
    "Los histogramas parecen distribuciones normales, la mayoria segadas hacia la izquierda (precios más bajos) al menos en televisores, celulares y tablets.\n",
    "\n",
    "Se observa que hay ciertos datos anómalos al menos en la zona televisores que forman otro pico en uno de los extremos de la distribución, esto podría deberse a productos que tengan relación estrecha con televiosres, como controles, accesorios, sin embargo recibieron se etiquetaron con el *domain_id* que le corresponde a los televisores."
   ]
  },
  {
   "cell_type": "markdown",
   "metadata": {},
   "source": [
    "#### Estudio de correlaciones"
   ]
  },
  {
   "cell_type": "code",
   "execution_count": 150,
   "metadata": {
    "scrolled": false
   },
   "outputs": [
    {
     "data": {
      "image/png": "[encoded data removed]",
      "text/plain": [
       "<Figure size 864x432 with 2 Axes>"
      ]
     },
     "metadata": {
      "needs_background": "light"
     },
     "output_type": "display_data"
    }
   ],
   "source": [
    "# graficamos un heatmap para exploras la relacion entre variables\n",
    "plt.figure(figsize=(12,6))\n",
    "# para no incorporar solamente aquellas variables numericas, ya que de lo contrario me tomaria los buleanos \n",
    "num_cols = [x for x in data_clean2.select_dtypes(include=['number']).columns]\n",
    "sns.heatmap(data_clean[num_cols].corr(),annot=True)\n",
    "plt.title(\"Correlation Heatmap\")\n",
    "plt.show()"
   ]
  },
  {
   "cell_type": "markdown",
   "metadata": {},
   "source": [
    "De lo observado en el heat map, se puede ver que *sold_quantity* tiene relación poca correlación varios campos, la relación negativa de unidades vendidas con el precio, nos indicaría a priori que a mayor precio menos unidades vendidas.\n",
    "\n",
    "Los aportes de cantidad de pedidos *total, canceled, completes* tienen practicamente el mismo aporte. Luego el rate *negative, positive, neutral* tienen un aporte cercano al cero. Lo mismo con *aviable_quantity*."
   ]
  },
  {
   "cell_type": "code",
   "execution_count": 158,
   "metadata": {},
   "outputs": [
    {
     "data": {
      "image/png": "[encoded data removed]",
      "text/plain": [
       "<Figure size 1152x288 with 2 Axes>"
      ]
     },
     "metadata": {
      "needs_background": "light"
     },
     "output_type": "display_data"
    }
   ],
   "source": [
    "#Correlación entre cantidades vendidas y el precio\n",
    "plt.figure(figsize = (16, 4))\n",
    "data2plot1 = data_clean2.loc[:,['sold_quantity','price',]].copy()\n",
    "ax = plt.subplot(1,2,1)\n",
    "sns.scatterplot(data= data2plot1 ,x='price',y='sold_quantity')\n",
    "plt.title('Distribucion Pricio vs Cantidad vendida');\n",
    "\n",
    "ax = plt.subplot(1,2,2)\n",
    "sns.scatterplot(data= data2plot1 ,x='price',y='sold_quantity')\n",
    "plt.ylim(0, 2000)\n",
    "plt.title('Distribucion Pricio vs Cantidad vendida');"
   ]
  },
  {
   "cell_type": "markdown",
   "metadata": {},
   "source": [
    "<a href=\"#top\">Back to Index</a>\n",
    "<a id=\"2\"></a>\n",
    "### 2) Identificado data extra (*Get the Data*)\n",
    "<a id=\"2.1\"></a>\n",
    "#### 2.1) Extraccion de datos extra"
   ]
  },
  {
   "cell_type": "markdown",
   "metadata": {},
   "source": [
    "El data set obtenido de los *results* de la consulta existen ciertos campos referidos tanto al proveedor, su historia y rating, entre otros, que son diccionarios contenidos en una columna del dataframe. Se identificarán las mismas, y mediante una función “expandiremos” dicho data set. Esto en medida que los valores sean significativos al modelo de negocio, en función de mi propio entendimiento."
   ]
  },
  {
   "cell_type": "code",
   "execution_count": null,
   "metadata": {},
   "outputs": [],
   "source": []
  },
  {
   "cell_type": "code",
   "execution_count": null,
   "metadata": {},
   "outputs": [],
   "source": []
  },
  {
   "cell_type": "code",
   "execution_count": null,
   "metadata": {},
   "outputs": [],
   "source": []
  },
  {
   "cell_type": "code",
   "execution_count": null,
   "metadata": {},
   "outputs": [],
   "source": []
  },
  {
   "cell_type": "markdown",
   "metadata": {},
   "source": [
    "<a href=\"#top\">Back to Index</a>\n",
    "<a id=\"3\"></a>\n",
    "### 3) Conclusion de Parte I\n",
    "<a id=\"3.1\"></a>\n",
    "#### 3.1) Preparacion del data set final"
   ]
  },
  {
   "cell_type": "markdown",
   "metadata": {},
   "source": [
    "Preparo el data set final que empleare en la PARTE II instancia de modelado, donde se seguira tratando el data set final obtenido en esta instancia pero enfocando para su uso en un algoritmo, por lo tanto pasara por las intancias de limpieza, feature seleccition y feature engineering."
   ]
  },
  {
   "cell_type": "code",
   "execution_count": 520,
   "metadata": {},
   "outputs": [
    {
     "data": {
      "text/plain": [
       "(4160, 63)"
      ]
     },
     "execution_count": 520,
     "metadata": {},
     "output_type": "execute_result"
    }
   ],
   "source": [
    "# concatenamos los datasets obtenidos hasta el momento\n",
    "df_part1 = pd.concat([df, df2, d3], axis = 1)\n",
    "df_part1.shape"
   ]
  },
  {
   "cell_type": "code",
   "execution_count": 521,
   "metadata": {},
   "outputs": [],
   "source": [
    "df_part1.to_excel('./data/data_part1.xlsx', index= False)\n",
    "df_part1.to_csv('./data/data_part1.csv', index= False)"
   ]
  },
  {
   "cell_type": "markdown",
   "metadata": {},
   "source": [
    "<a id=\"3.2\"></a>\n",
    "#### 3.2) Comentarios finales"
   ]
  },
  {
   "cell_type": "markdown",
   "metadata": {},
   "source": [
    "Como se pudo observar en el analisis exploratorio realizado, se pudo ver los siguiente:\n",
    "* Las busquedas pueden ser mas o menos precisas en funcion del tag de la busqueda, por ejemplo *tv 4k* trajo aparejada una mayor cantidad de categorias (distintos *domain_id*), no paso asi con las demas\n",
    "* El descuento promedio en las publicaciones es del 15%, y hay un 17% de productos de descuentos en la parte electronica (de esta muestra).\n",
    "* Las notebooks son el producto con mayor cantidad de productos en descuento, sin embargo las tablets son las que ofrecen mayor descuento promedio en su precio de publicado\n",
    "\n",
    "\n",
    "Para más detalles visitar el repositorio <a href = 'https://github.com/Mattzvl/EDA_API_ML'>EDA_API_MELI</a> que contiene este archivo y la parte II"
   ]
  },
  {
   "cell_type": "code",
   "execution_count": 473,
   "metadata": {},
   "outputs": [],
   "source": [
    "#pip freeze > requirements.txt"
   ]
  },
  {
   "cell_type": "code",
   "execution_count": null,
   "metadata": {},
   "outputs": [],
   "source": []
  }
 ],
 "metadata": {
  "kernelspec": {
   "display_name": "Python 3",
   "language": "python",
   "name": "python3"
  },
  "language_info": {
   "codemirror_mode": {
    "name": "ipython",
    "version": 3
   },
   "file_extension": ".py",
   "mimetype": "text/x-python",
   "name": "python",
   "nbconvert_exporter": "python",
   "pygments_lexer": "ipython3",
   "version": "3.8.5"
  }
 },
 "nbformat": 4,
 "nbformat_minor": 4
}
